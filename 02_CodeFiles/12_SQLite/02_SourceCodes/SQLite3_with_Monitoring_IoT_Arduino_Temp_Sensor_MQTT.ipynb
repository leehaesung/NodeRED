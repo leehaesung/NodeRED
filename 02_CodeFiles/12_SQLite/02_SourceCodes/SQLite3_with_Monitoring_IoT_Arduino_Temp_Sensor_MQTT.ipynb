{
 "cells": [
  {
   "cell_type": "markdown",
   "metadata": {},
   "source": [
    "# Monitoring IoT Arduino Temperature With SQLite3 in Real Time"
   ]
  },
  {
   "cell_type": "markdown",
   "metadata": {},
   "source": [
    "* How to install MQTT:\n",
    "\n",
    "```\n",
    "sudo pip install paho-mqtt\n",
    "```"
   ]
  },
  {
   "cell_type": "markdown",
   "metadata": {},
   "source": [
    "* How to search temperature data in Python"
   ]
  },
  {
   "cell_type": "markdown",
   "metadata": {},
   "source": [
    "## CREATE A TABLE"
   ]
  },
  {
   "cell_type": "code",
   "execution_count": 1,
   "metadata": {
    "scrolled": true
   },
   "outputs": [
    {
     "name": "stdout",
     "output_type": "stream",
     "text": [
      "Table created successfully\n"
     ]
    }
   ],
   "source": [
    "import sqlite3\n",
    "\n",
    "conn = sqlite3.connect('sqliteIoTempSensor')\n",
    "conn.execute('''CREATE TABLE HOME\n",
    "         (TIME INT PRIMARY KEY     NOT NULL,\n",
    "         LOCAL           INT    NOT NULL,\n",
    "         TEMP            INT     NOT NULL);''')\n",
    "print \"Table created successfully\";\n",
    "\n",
    "conn.close()"
   ]
  },
  {
   "cell_type": "markdown",
   "metadata": {},
   "source": [
    "## INSERT OPERATION FOR UNIT TESTING"
   ]
  },
  {
   "cell_type": "code",
   "execution_count": 2,
   "metadata": {
    "scrolled": false
   },
   "outputs": [
    {
     "name": "stdout",
     "output_type": "stream",
     "text": [
      "Opened database successfully\n",
      "Records created successfully\n"
     ]
    }
   ],
   "source": [
    "import sqlite3\n",
    "\n",
    "conn = sqlite3.connect('sqliteIoTempSensor')\n",
    "print \"Opened database successfully\";\n",
    "\n",
    "conn.execute(\"INSERT INTO HOME (TIME,LOCAL,TEMP) \\\n",
    "      VALUES (1512033190, 11302013, 35.43 )\");\n",
    "\n",
    "conn.commit()\n",
    "print \"Records created successfully\";\n",
    "conn.close()"
   ]
  },
  {
   "cell_type": "markdown",
   "metadata": {},
   "source": [
    "## SEARCH THE SPECIFIC TEMPERATURE DATA"
   ]
  },
  {
   "cell_type": "code",
   "execution_count": 3,
   "metadata": {
    "scrolled": false
   },
   "outputs": [
    {
     "name": "stdout",
     "output_type": "stream",
     "text": [
      "Opened database successfully\n",
      "Timestamp   =  1512034412\n",
      "Local Time  =  11302033\n",
      "Temperature =  28.16 \n",
      "\n",
      "Timestamp   =  1512034424\n",
      "Local Time  =  11302033\n",
      "Temperature =  28.16 \n",
      "\n",
      "Timestamp   =  1512034622\n",
      "Local Time  =  11302037\n",
      "Temperature =  28.16 \n",
      "\n",
      "Operation done successfully\n"
     ]
    }
   ],
   "source": [
    "import sqlite3\n",
    "\n",
    "conn = sqlite3.connect('sqliteIoTempSensor')\n",
    "print \"Opened database successfully\";\n",
    "\n",
    "cursor = conn.execute(\"SELECT * from HOME WHERE TEMP = 28.16\")\n",
    "for row in cursor:\n",
    "   print \"Timestamp   = \", row[0]\n",
    "   print \"Local Time  = \", row[1]\n",
    "   print \"Temperature = \", row[2], \"\\n\"\n",
    "   \n",
    "\n",
    "print \"Operation done successfully\";\n",
    "conn.close()"
   ]
  },
  {
   "cell_type": "code",
   "execution_count": 4,
   "metadata": {
    "scrolled": true
   },
   "outputs": [
    {
     "name": "stdout",
     "output_type": "stream",
     "text": [
      "Opened database successfully\n",
      "\n",
      "Timestamp  |Local Time | Temperature\n",
      "=======================================\n",
      "(1512034412, 11302033, 28.16)\n",
      "(1512034424, 11302033, 28.16)\n",
      "(1512034622, 11302037, 28.16)\n"
     ]
    }
   ],
   "source": [
    "#!/usr/bin/python\n",
    "\n",
    "import sqlite3\n",
    "\n",
    "conn = sqlite3.connect('sqliteIoTempSensor')\n",
    "print \"Opened database successfully\"\n",
    "print \"\"\n",
    "print(\"Timestamp  |Local Time | Temperature\")\n",
    "print(\"=======================================\")\n",
    "cursor = conn.execute(\"SELECT * from HOME WHERE TEMP = 28.16\")\n",
    "for row in cursor:\n",
    "    print(row[0],row[1],row[2])\n",
    "    \n",
    "conn.close()"
   ]
  },
  {
   "cell_type": "code",
   "execution_count": 5,
   "metadata": {
    "collapsed": true
   },
   "outputs": [],
   "source": [
    "import sqlite3\n",
    "\n",
    "def search_temperature(temp):\n",
    "    conn = sqlite3.connect('sqliteIoTempSensor')\n",
    "\n",
    "    str1 = \"SELECT * FROM HOME WHERE TEMP = \"\n",
    "    str2 = str(temp)\n",
    "    str3 = \";\"\n",
    "    sql = str1 + str2 + str3\n",
    "    cursor = conn.execute(sql)\n",
    "\n",
    "    print \"Opened database successfully\"\n",
    "    print \"\"\n",
    "    print(\"Timestamp  |Local Time | Temperature\")\n",
    "    print(\"======================================\")\n",
    "    \n",
    "    for row in cursor:\n",
    "        print(row[0],row[1],row[2])"
   ]
  },
  {
   "cell_type": "code",
   "execution_count": 6,
   "metadata": {
    "scrolled": true
   },
   "outputs": [
    {
     "name": "stdout",
     "output_type": "stream",
     "text": [
      "Opened database successfully\n",
      "\n",
      "Timestamp  |Local Time | Temperature\n",
      "======================================\n",
      "(1512034412, 11302033, 28.16)\n",
      "(1512034424, 11302033, 28.16)\n",
      "(1512034622, 11302037, 28.16)\n"
     ]
    }
   ],
   "source": [
    "# Put any temperature.\n",
    "search_temperature(28.16)"
   ]
  },
  {
   "cell_type": "markdown",
   "metadata": {},
   "source": [
    "# Eclipse Paho™ MQTT Python Pub/Sub Client"
   ]
  },
  {
   "cell_type": "code",
   "execution_count": 1,
   "metadata": {},
   "outputs": [
    {
     "name": "stdout",
     "output_type": "stream",
     "text": [
      "arduinoTempSensor\n",
      "{\"data\":{\"time\":1512024341,\"local\":11301745,\"temp\":27.2}}\n",
      "arduinoTempSensor\n",
      "{\"data\":{\"time\":1512024354,\"local\":11301745,\"temp\":27.04}}\n"
     ]
    }
   ],
   "source": [
    "import sys\n",
    "try:\n",
    "    import paho.mqtt.subscribe as subscribe\n",
    "except ImportError:\n",
    "    # This part is only required to run the example from within the examples\n",
    "    # directory when the module itself is not installed.\n",
    "    #\n",
    "    # If you have the module installed, just use \"import paho.mqtt.subscribe\"\n",
    "    import os\n",
    "    import inspect\n",
    "    cmd_subfolder = os.path.realpath(os.path.abspath(os.path.join(os.path.split(inspect.getfile( inspect.currentframe() ))[0],\"../src\")))\n",
    "    if cmd_subfolder not in sys.path:\n",
    "        sys.path.insert(0, cmd_subfolder)\n",
    "    import paho.mqtt.subscribe as subscribe\n",
    "    import paho.mqtt.client\n",
    "\n",
    "topics = ['arduinoTempSensor']\n",
    "\n",
    "m = subscribe.simple(topics, hostname=\"iot.eclipse.org\", retained=False, msg_count=2)\n",
    "for a in m:\n",
    "    print(a.topic)\n",
    "    print(a.payload)"
   ]
  },
  {
   "cell_type": "code",
   "execution_count": null,
   "metadata": {
    "scrolled": false
   },
   "outputs": [
    {
     "name": "stdout",
     "output_type": "stream",
     "text": [
      "arduinoTempSensor : {\"data\":{\"time\":1512024412,\"local\":11301746,\"temp\":25.44}}\n",
      "arduinoTempSensor : {\"data\":{\"time\":1512024427,\"local\":11301747,\"temp\":25.44}}\n",
      "arduinoTempSensor : {\"data\":{\"time\":1512024440,\"local\":11301747,\"temp\":25.76}}\n",
      "arduinoTempSensor : {\"data\":{\"time\":1512024452,\"local\":11301747,\"temp\":25.76}}\n",
      "arduinoTempSensor : {\"data\":{\"time\":1512024465,\"local\":11301747,\"temp\":25.92}}\n",
      "arduinoTempSensor : {\"data\":{\"time\":1512024478,\"local\":11301747,\"temp\":7.68}}\n",
      "arduinoTempSensor : {\"data\":{\"time\":1512024490,\"local\":11301748,\"temp\":10.24}}\n",
      "arduinoTempSensor : {\"data\":{\"time\":1512024516,\"local\":11301748,\"temp\":26.88}}\n"
     ]
    }
   ],
   "source": [
    "import sys\n",
    "try:\n",
    "    import paho.mqtt.subscribe as subscribe\n",
    "except ImportError:\n",
    "    # This part is only required to run the example from within the examples\n",
    "    # directory when the module itself is not installed.\n",
    "    #\n",
    "    # If you have the module installed, just use \"import paho.mqtt.subscribe\"\n",
    "    import os\n",
    "    import inspect\n",
    "    cmd_subfolder = os.path.realpath(os.path.abspath(os.path.join(os.path.split(inspect.getfile( inspect.currentframe() ))[0],\"../src\")))\n",
    "    if cmd_subfolder not in sys.path:\n",
    "        sys.path.insert(0, cmd_subfolder)\n",
    "    import paho.mqtt.subscribe as subscribe\n",
    "    import paho.mqtt.client\n",
    "\n",
    "def print_msg(client, userdata, message):\n",
    "    print(\"%s : %s\" % (message.topic, message.payload))\n",
    "    buf = message.payload\n",
    "    \n",
    "subscribe.callback(print_msg, \"arduinoTempSensor\", hostname=\"iot.eclipse.org\")"
   ]
  },
  {
   "cell_type": "markdown",
   "metadata": {},
   "source": [
    "##  INSERT OPERATION"
   ]
  },
  {
   "cell_type": "code",
   "execution_count": null,
   "metadata": {
    "scrolled": false
   },
   "outputs": [
    {
     "name": "stdout",
     "output_type": "stream",
     "text": [
      "Opened database successfully\n",
      "\n",
      "INSERT OPERATION\n",
      " Timestamp   | Local Time | Temperature\n",
      "==========================================\n",
      "('1512034323', '11302032', '15.36')\n",
      "('1512034341', '11302032', '10.24')\n",
      "('1512034355', '11302032', '28.8')\n",
      "('1512034378', '11302032', '28.48')\n",
      "('1512034393', '11302033', '2.56')\n",
      "('1512034412', '11302033', '28.16')\n",
      "('1512034424', '11302033', '28.16')\n",
      "('1512034438', '11302033', '28.48')\n",
      "('1512034453', '11302034', '5.12')\n",
      "('1512034470', '11302034', '28.64')\n",
      "('1512034484', '11302034', '28.64')\n",
      "('1512034492', '11302034', '28.64')\n",
      "('1512034509', '11302035', '7.68')\n",
      "('1512034525', '11302035', '28.64')\n",
      "('1512034545', '11302035', '7.68')\n",
      "('1512034557', '11302035', '28.64')\n",
      "('1512034569', '11302036', '28.48')\n",
      "('1512034589', '11302036', '28.48')\n",
      "('1512034603', '11302036', '28.32')\n",
      "('1512034622', '11302037', '28.16')\n",
      "('1512034635', '11302037', '28.32')\n",
      "('1512034654', '11302037', '7.68')\n",
      "('1512034670', '11302037', '28.64')\n",
      "('1512034679', '11302037', '28.64')\n",
      "('1512034693', '11302038', '28.32')\n",
      "('1512034706', '11302038', '5.12')\n",
      "('1512034718', '11302038', '28.48')\n",
      "('1512034725', '11302038', '7.68')\n",
      "('1512034742', '11302039', '28.8')\n",
      "('1512034755', '11302039', '28.96')\n",
      "('1512034769', '11302039', '29.28')\n"
     ]
    }
   ],
   "source": [
    "import sys \n",
    "import sqlite3\n",
    "import locale\n",
    "\n",
    "conn = sqlite3.connect('sqliteIoTempSensor')\n",
    "print \"Opened database successfully\";\n",
    "print \"\"\n",
    "print \"INSERT OPERATION\"\n",
    "print(\" Timestamp   | Local Time | Temperature\")\n",
    "print(\"=========================================\")\n",
    "\n",
    "try:\n",
    "    import paho.mqtt.subscribe as subscribe\n",
    "except ImportError:\n",
    "    # This part is only required to run the example from within the examples\n",
    "    # directory when the module itself is not installed.\n",
    "    #\n",
    "    # If you have the module installed, just use \"import paho.mqtt.subscribe\"\n",
    "    import os\n",
    "    import inspect\n",
    "    cmd_subfolder = os.path.realpath(os.path.abspath(os.path.join(os.path.split(inspect.getfile( inspect.currentframe() ))[0],\"../src\")))\n",
    "    if cmd_subfolder not in sys.path:\n",
    "        sys.path.insert(0, cmd_subfolder)\n",
    "    import paho.mqtt.subscribe as subscribe\n",
    "    import paho.mqtt.client\n",
    "\n",
    "def print_msg(client, userdata, message):\n",
    "    #print(\"%s : %s\" % (message.topic, message.payload))\n",
    "    data = message.payload\n",
    "    \n",
    "    # {\"data\":{\"time\":1512024412,\"local\":11301746,\"temp\":25.44}}\n",
    "    if 58 == len(data): \n",
    "        time =  str((data[16:-28]).replace(',\"lo', ''))\n",
    "        local = str((data[35:-11]).replace(',\"te', ''))\n",
    "        temp = str(data[51:-2])\n",
    "    \n",
    "    # {\"data\":{\"time\":1512024412,\"local\":11301746,\"temp\":25.4}}\n",
    "    elif 57 == len(data):\n",
    "        time =  str((data[16:-28]).replace(',\"l', ''))\n",
    "        local = str((data[35:-11]).replace(',\"t', ''))\n",
    "        temp = str(data[51:-2])\n",
    "    \n",
    "    # {\"data\":{\"time\":1512024412,\"local\":11301746,\"temp\":2.5}}\n",
    "    elif 56 == len(data):\n",
    "        time =  str((data[16:-28]).replace(',\"', ''))\n",
    "        local = str((data[35:-11]).replace(',\"', ''))\n",
    "        temp = str(data[51:-2])\n",
    "        \n",
    "    # {\"data\":{\"time\":1512024412,\"local\":11301746,\"temp\":25}}\n",
    "    elif 55 == len(data):\n",
    "        time =  str((data[16:-28]).replace(',', ''))\n",
    "        local = str((data[35:-11]).replace(',', ''))\n",
    "        temp = str(data[51:-2])\n",
    "        \n",
    "    # {\"data\":{\"time\":1512024412,\"local\":11301746,\"temp\":2}}\n",
    "    elif 54 == len(data):\n",
    "        time =  str((data[16:-28]).replace('', ''))\n",
    "        local = str((data[35:-11]).replace('', ''))\n",
    "        temp = str(data[51:-2])\n",
    "    \n",
    "        \n",
    "    \n",
    "    print(time, local, temp)\n",
    "    \n",
    "    str1 = \"INSERT INTO HOME (TIME,LOCAL,TEMP) \\\n",
    "      VALUES (\"\n",
    "    str2 = time \n",
    "    str3 = \", \"\n",
    "    str4 = local\n",
    "    str5 = \", \"\n",
    "    str6 = temp\n",
    "    str7 = \" )\"\n",
    "    insert = str1 + str2 + str3 + str4 + str5 + str6 + str7\n",
    "    conn.execute(insert)\n",
    "    conn.commit()\n",
    "\n",
    "subscribe.callback(print_msg, \"arduinoTempSensor\", hostname=\"iot.eclipse.org\")"
   ]
  },
  {
   "cell_type": "markdown",
   "metadata": {},
   "source": [
    "# SELECT OPERATION"
   ]
  },
  {
   "cell_type": "code",
   "execution_count": 7,
   "metadata": {
    "scrolled": false
   },
   "outputs": [
    {
     "name": "stdout",
     "output_type": "stream",
     "text": [
      "Opened database successfully\n",
      "\n",
      "Timestamp  |Local Time | Temperature\n",
      "======================================\n",
      "(1512033190, 11302013, 35.43)\n",
      "(1512034323, 11302032, 15.36)\n",
      "(1512034341, 11302032, 10.24)\n",
      "(1512034355, 11302032, 28.8)\n",
      "(1512034378, 11302032, 28.48)\n",
      "(1512034393, 11302033, 2.56)\n",
      "(1512034412, 11302033, 28.16)\n",
      "(1512034424, 11302033, 28.16)\n",
      "(1512034438, 11302033, 28.48)\n",
      "(1512034453, 11302034, 5.12)\n",
      "(1512034470, 11302034, 28.64)\n",
      "(1512034484, 11302034, 28.64)\n",
      "(1512034492, 11302034, 28.64)\n",
      "(1512034509, 11302035, 7.68)\n",
      "(1512034525, 11302035, 28.64)\n",
      "(1512034545, 11302035, 7.68)\n",
      "(1512034557, 11302035, 28.64)\n",
      "(1512034569, 11302036, 28.48)\n",
      "(1512034589, 11302036, 28.48)\n",
      "(1512034603, 11302036, 28.32)\n",
      "(1512034622, 11302037, 28.16)\n",
      "(1512034635, 11302037, 28.32)\n",
      "(1512034654, 11302037, 7.68)\n",
      "(1512034670, 11302037, 28.64)\n",
      "(1512034679, 11302037, 28.64)\n",
      "(1512034693, 11302038, 28.32)\n",
      "(1512034706, 11302038, 5.12)\n",
      "(1512034718, 11302038, 28.48)\n",
      "(1512034725, 11302038, 7.68)\n",
      "(1512034742, 11302039, 28.8)\n",
      "(1512034755, 11302039, 28.96)\n",
      "(1512034769, 11302039, 29.28)\n"
     ]
    }
   ],
   "source": [
    "#!/usr/bin/python\n",
    "\n",
    "import sqlite3\n",
    "\n",
    "conn = sqlite3.connect('sqliteIoTempSensor')\n",
    "print \"Opened database successfully\"\n",
    "print \"\"\n",
    "print(\"Timestamp  |Local Time | Temperature\")\n",
    "print(\"======================================\")\n",
    "cursor = conn.execute(\"SELECT * from HOME WHERE TEMP\")\n",
    "for row in cursor:\n",
    "    print(row[0],row[1],row[2])\n",
    "    \n",
    "conn.close()"
   ]
  },
  {
   "cell_type": "markdown",
   "metadata": {},
   "source": [
    "# Delete A TABLE"
   ]
  },
  {
   "cell_type": "code",
   "execution_count": 1,
   "metadata": {
    "scrolled": false
   },
   "outputs": [
    {
     "name": "stdout",
     "output_type": "stream",
     "text": [
      "Deleted the table successfully\n"
     ]
    }
   ],
   "source": [
    "import sqlite3\n",
    "conn = sqlite3.connect('sqliteIoTempSensor')\n",
    "cur = conn.cursor()\n",
    "sql = \"DROP TABLE HOME;\"\n",
    "cur.execute(sql)\n",
    "print \"Deleted the table successfully\"\n",
    "conn.commit()\n",
    "conn.close()"
   ]
  },
  {
   "cell_type": "code",
   "execution_count": null,
   "metadata": {
    "collapsed": true
   },
   "outputs": [],
   "source": [
    "# END"
   ]
  }
 ],
 "metadata": {
  "kernelspec": {
   "display_name": "Python 2",
   "language": "python",
   "name": "python2"
  },
  "language_info": {
   "codemirror_mode": {
    "name": "ipython",
    "version": 2
   },
   "file_extension": ".py",
   "mimetype": "text/x-python",
   "name": "python",
   "nbconvert_exporter": "python",
   "pygments_lexer": "ipython2",
   "version": "2.7.6"
  }
 },
 "nbformat": 4,
 "nbformat_minor": 2
}
