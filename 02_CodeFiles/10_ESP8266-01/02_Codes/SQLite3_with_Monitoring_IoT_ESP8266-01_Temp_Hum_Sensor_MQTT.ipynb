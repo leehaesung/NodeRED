{
 "cells": [
  {
   "cell_type": "markdown",
   "metadata": {},
   "source": [
    "# Monitoring IoT Sensors (Temperature & Humidity)\n",
    "## With SQLite3 in Real Time"
   ]
  },
  {
   "cell_type": "markdown",
   "metadata": {},
   "source": [
    "<img src=\"https://github.com/leehaesung/NodeRED/raw/master/02_CodeFiles/10_ESP8266-01/01_Images/ESP8266_DHT11.jpg\" height=\"400\" width=\"450\" >"
   ]
  },
  {
   "cell_type": "markdown",
   "metadata": {},
   "source": [
    "* How to install MQTT:\n",
    "\n",
    "```\n",
    "sudo pip install paho-mqtt\n",
    "```"
   ]
  },
  {
   "cell_type": "markdown",
   "metadata": {},
   "source": [
    "* How to search temperature data in Python"
   ]
  },
  {
   "cell_type": "markdown",
   "metadata": {},
   "source": [
    "## CREATE A TABLE"
   ]
  },
  {
   "cell_type": "code",
   "execution_count": 1,
   "metadata": {
    "scrolled": true
   },
   "outputs": [
    {
     "name": "stdout",
     "output_type": "stream",
     "text": [
      "Table created successfully\n"
     ]
    }
   ],
   "source": [
    "import sqlite3\n",
    "\n",
    "conn = sqlite3.connect('sqliteIotEspDht')\n",
    "conn.execute('''CREATE TABLE HOME\n",
    "         (LOCAL INT PRIMARY KEY     NOT NULL,\n",
    "         TEMP           INT    NOT NULL,\n",
    "         HUM            INT     NOT NULL);''')\n",
    "print \"Table created successfully\";\n",
    "\n",
    "conn.close()"
   ]
  },
  {
   "cell_type": "markdown",
   "metadata": {},
   "source": [
    "## INSERT OPERATION FOR UNIT TESTING"
   ]
  },
  {
   "cell_type": "code",
   "execution_count": 6,
   "metadata": {
    "scrolled": false
   },
   "outputs": [
    {
     "name": "stdout",
     "output_type": "stream",
     "text": [
      "Opened database successfully\n",
      "Records created successfully\n"
     ]
    }
   ],
   "source": [
    "import sqlite3\n",
    "\n",
    "conn = sqlite3.connect('sqliteIotEspDht')\n",
    "print \"Opened database successfully\";\n",
    "\n",
    "conn.execute(\"INSERT INTO HOME (LOCAL,TEMP,HUM) \\\n",
    "      VALUES (20171201221142, 24, 43 )\");\n",
    "\n",
    "conn.commit()\n",
    "print \"Records created successfully\";\n",
    "conn.close()"
   ]
  },
  {
   "cell_type": "markdown",
   "metadata": {},
   "source": [
    "## SEARCH THE SPECIFIC TEMPERATURE DATA"
   ]
  },
  {
   "cell_type": "code",
   "execution_count": 8,
   "metadata": {
    "scrolled": false
   },
   "outputs": [
    {
     "name": "stdout",
     "output_type": "stream",
     "text": [
      "Opened database successfully\n",
      "Local Time   =  20171201221135\n",
      "Temperature  =  24\n",
      "Humidity =  43 \n",
      "\n",
      "Local Time   =  20171201221141\n",
      "Temperature  =  24\n",
      "Humidity =  43 \n",
      "\n",
      "Local Time   =  20171201221218\n",
      "Temperature  =  24\n",
      "Humidity =  42 \n",
      "\n",
      "Local Time   =  20171201221142\n",
      "Temperature  =  24\n",
      "Humidity =  43 \n",
      "\n",
      "Operation done successfully\n"
     ]
    }
   ],
   "source": [
    "import sqlite3\n",
    "\n",
    "conn = sqlite3.connect('sqliteIotEspDht')\n",
    "print \"Opened database successfully\";\n",
    "\n",
    "cursor = conn.execute(\"SELECT * from HOME WHERE TEMP = 24\")\n",
    "for row in cursor:\n",
    "   print \"Local Time   = \", row[0]\n",
    "   print \"Temperature  = \", row[1]\n",
    "   print \"Humidity = \", row[2], \"\\n\"\n",
    "   \n",
    "\n",
    "print \"Operation done successfully\";\n",
    "conn.close()"
   ]
  },
  {
   "cell_type": "code",
   "execution_count": 9,
   "metadata": {
    "scrolled": true
   },
   "outputs": [
    {
     "name": "stdout",
     "output_type": "stream",
     "text": [
      "Opened database successfully\n",
      "\n",
      "Local Time | Temperature | Humidity\n",
      "=======================================\n",
      "(20171201221135, 24, 43)\n",
      "(20171201221141, 24, 43)\n",
      "(20171201221218, 24, 42)\n",
      "(20171201221142, 24, 43)\n"
     ]
    }
   ],
   "source": [
    "#!/usr/bin/python\n",
    "\n",
    "import sqlite3\n",
    "\n",
    "conn = sqlite3.connect('sqliteIotEspDht')\n",
    "print \"Opened database successfully\"\n",
    "print \"\"\n",
    "print(\"Local Time | Temperature | Humidity\")\n",
    "print(\"=======================================\")\n",
    "cursor = conn.execute(\"SELECT * from HOME WHERE TEMP = 24\")\n",
    "for row in cursor:\n",
    "    print(row[0],row[1],row[2])\n",
    "    \n",
    "conn.close()"
   ]
  },
  {
   "cell_type": "code",
   "execution_count": 10,
   "metadata": {
    "collapsed": true
   },
   "outputs": [],
   "source": [
    "import sqlite3\n",
    "\n",
    "def search_temperature(temp):\n",
    "    conn = sqlite3.connect('sqliteIotEspDht')\n",
    "\n",
    "    str1 = \"SELECT * FROM HOME WHERE TEMP = \"\n",
    "    str2 = str(temp)\n",
    "    str3 = \";\"\n",
    "    sql = str1 + str2 + str3\n",
    "    cursor = conn.execute(sql)\n",
    "\n",
    "    print \"Opened database successfully\"\n",
    "    print \"\"\n",
    "    print(\"Local Time | Temperature | Humidity\")\n",
    "    print(\"======================================\")\n",
    "    \n",
    "    for row in cursor:\n",
    "        print(row[0],row[1],row[2])"
   ]
  },
  {
   "cell_type": "code",
   "execution_count": 11,
   "metadata": {
    "scrolled": true
   },
   "outputs": [
    {
     "name": "stdout",
     "output_type": "stream",
     "text": [
      "Opened database successfully\n",
      "\n",
      "Local Time | Temperature | Humidity\n",
      "======================================\n",
      "(20171201221135, 24, 43)\n",
      "(20171201221141, 24, 43)\n",
      "(20171201221218, 24, 42)\n",
      "(20171201221142, 24, 43)\n"
     ]
    }
   ],
   "source": [
    "# Put any temperature.\n",
    "search_temperature(24)"
   ]
  },
  {
   "cell_type": "markdown",
   "metadata": {},
   "source": [
    "# Eclipse Paho™ MQTT Python Pub/Sub Client"
   ]
  },
  {
   "cell_type": "code",
   "execution_count": 7,
   "metadata": {},
   "outputs": [
    {
     "name": "stdout",
     "output_type": "stream",
     "text": [
      "EspTempHumSensor\n",
      "{\"data\":{\"local\":20171201215854,\"temp\":25,\"hum\":42}}\n",
      "EspTempHumSensor\n",
      "{\"data\":{\"local\":20171201215858,\"temp\":24,\"hum\":31}}\n"
     ]
    }
   ],
   "source": [
    "import sys\n",
    "try:\n",
    "    import paho.mqtt.subscribe as subscribe\n",
    "except ImportError:\n",
    "    # This part is only required to run the example from within the examples\n",
    "    # directory when the module itself is not installed.\n",
    "    #\n",
    "    # If you have the module installed, just use \"import paho.mqtt.subscribe\"\n",
    "    import os\n",
    "    import inspect\n",
    "    cmd_subfolder = os.path.realpath(os.path.abspath(os.path.join(os.path.split(inspect.getfile( inspect.currentframe() ))[0],\"../src\")))\n",
    "    if cmd_subfolder not in sys.path:\n",
    "        sys.path.insert(0, cmd_subfolder)\n",
    "    import paho.mqtt.subscribe as subscribe\n",
    "    import paho.mqtt.client\n",
    "\n",
    "topics = ['EspTempHumSensor']\n",
    "\n",
    "m = subscribe.simple(topics, hostname=\"iot.eclipse.org\", retained=False, msg_count=2)\n",
    "for a in m:\n",
    "    print(a.topic)\n",
    "    print(a.payload)"
   ]
  },
  {
   "cell_type": "code",
   "execution_count": null,
   "metadata": {
    "scrolled": false
   },
   "outputs": [
    {
     "name": "stdout",
     "output_type": "stream",
     "text": [
      "EspTempHumSensor : {\"data\":{\"local\":20171201215917,\"temp\":27,\"hum\":40}}\n",
      "EspTempHumSensor : {\"data\":{\"local\":20171201215921,\"temp\":24,\"hum\":31}}\n",
      "EspTempHumSensor : {\"data\":{\"local\":20171201215925,\"temp\":25,\"hum\":41}}\n",
      "EspTempHumSensor : {\"data\":{\"local\":20171201215930,\"temp\":25,\"hum\":41}}\n",
      "EspTempHumSensor : {\"data\":{\"local\":20171201215934,\"temp\":24,\"hum\":31}}\n",
      "EspTempHumSensor : {\"data\":{\"local\":20171201215937,\"temp\":24,\"hum\":31}}\n",
      "EspTempHumSensor : {\"data\":{\"local\":20171201215941,\"temp\":24,\"hum\":31}}\n",
      "EspTempHumSensor : {\"data\":{\"local\":20171201215945,\"temp\":25,\"hum\":42}}\n",
      "EspTempHumSensor : {\"data\":{\"local\":20171201215948,\"temp\":25,\"hum\":41}}\n",
      "EspTempHumSensor : {\"data\":{\"local\":20171201215952,\"temp\":24,\"hum\":31}}\n"
     ]
    }
   ],
   "source": [
    "import sys\n",
    "try:\n",
    "    import paho.mqtt.subscribe as subscribe\n",
    "except ImportError:\n",
    "    # This part is only required to run the example from within the examples\n",
    "    # directory when the module itself is not installed.\n",
    "    #\n",
    "    # If you have the module installed, just use \"import paho.mqtt.subscribe\"\n",
    "    import os\n",
    "    import inspect\n",
    "    cmd_subfolder = os.path.realpath(os.path.abspath(os.path.join(os.path.split(inspect.getfile( inspect.currentframe() ))[0],\"../src\")))\n",
    "    if cmd_subfolder not in sys.path:\n",
    "        sys.path.insert(0, cmd_subfolder)\n",
    "    import paho.mqtt.subscribe as subscribe\n",
    "    import paho.mqtt.client\n",
    "\n",
    "def print_msg(client, userdata, message):\n",
    "    print(\"%s : %s\" % (message.topic, message.payload))\n",
    "    buf = message.payload\n",
    "    \n",
    "subscribe.callback(print_msg, \"EspTempHumSensor\", hostname=\"iot.eclipse.org\")"
   ]
  },
  {
   "cell_type": "markdown",
   "metadata": {},
   "source": [
    "##  INSERT OPERATION IN REAL TIME"
   ]
  },
  {
   "cell_type": "code",
   "execution_count": null,
   "metadata": {
    "scrolled": false
   },
   "outputs": [
    {
     "name": "stdout",
     "output_type": "stream",
     "text": [
      "Opened database successfully\n",
      "\n",
      "INSERT OPERATION\n",
      "Local Time | Temperature | Humidity\n",
      "=========================================\n",
      "('20171201221130', '23', '31')\n",
      "('20171201221135', '24', '43')\n",
      "('20171201221138', '23', '31')\n",
      "('20171201221141', '24', '43')\n",
      "('20171201221145', '23', '31')\n",
      "('20171201221149', '23', '42')\n",
      "('20171201221152', '23', '31')\n",
      "('20171201221157', '23', '31')\n",
      "('20171201221200', '23', '31')\n",
      "('20171201221203', '23', '43')\n",
      "('20171201221207', '23', '31')\n",
      "('20171201221211', '23', '43')\n",
      "('20171201221214', '23', '31')\n",
      "('20171201221218', '24', '42')\n",
      "('20171201221223', '23', '31')\n",
      "('20171201221227', '23', '42')\n",
      "('20171201221230', '23', '31')\n",
      "('20171201221234', '23', '31')\n",
      "('20171201221237', '23', '31')\n",
      "('20171201221242', '23', '43')\n",
      "('20171201221245', '23', '31')\n",
      "('20171201221249', '23', '37')\n",
      "('20171201221253', '23', '31')\n",
      "('20171201221257', '23', '43')\n",
      "('20171201221301', '23', '31')\n",
      "('20171201221305', '23', '43')\n",
      "('20171201221308', '23', '31')\n",
      "('20171201221312', '23', '42')\n",
      "('20171201221316', '23', '31')\n",
      "('20171201221319', '23', '31')\n",
      "('20171201221323', '23', '42')\n",
      "('20171201221327', '23', '31')\n",
      "('20171201221331', '23', '42')\n",
      "('20171201221336', '23', '31')\n",
      "('20171201221340', '23', '43')\n",
      "('20171201221343', '23', '31')\n",
      "('20171201221348', '23', '43')\n",
      "('20171201221351', '23', '31')\n",
      "('20171201221356', '23', '43')\n"
     ]
    }
   ],
   "source": [
    "import sys \n",
    "import sqlite3\n",
    "import locale\n",
    "\n",
    "conn = sqlite3.connect('sqliteIotEspDht')\n",
    "print \"Opened database successfully\";\n",
    "print \"\"\n",
    "print \"INSERT OPERATION\"\n",
    "print(\"Local Time | Temperature | Humidity\")\n",
    "print(\"=========================================\")\n",
    "\n",
    "try:\n",
    "    import paho.mqtt.subscribe as subscribe\n",
    "except ImportError:\n",
    "    # This part is only required to run the example from within the examples\n",
    "    # directory when the module itself is not installed.\n",
    "    #\n",
    "    # If you have the module installed, just use \"import paho.mqtt.subscribe\"\n",
    "    import os\n",
    "    import inspect\n",
    "    cmd_subfolder = os.path.realpath(os.path.abspath(os.path.join(os.path.split(inspect.getfile( inspect.currentframe() ))[0],\"../src\")))\n",
    "    if cmd_subfolder not in sys.path:\n",
    "        sys.path.insert(0, cmd_subfolder)\n",
    "    import paho.mqtt.subscribe as subscribe\n",
    "    import paho.mqtt.client\n",
    "\n",
    "def print_msg(client, userdata, message):\n",
    "    #print(\"%s : %s\" % (message.topic, message.payload))\n",
    "    data = message.payload\n",
    "    \n",
    "    # {\"data\":{\"local\":20171201215917,\"temp\":27,\"hum\":40}} \n",
    "    local = str(data[17:-21])\n",
    "    temp = str(data[39:-11])\n",
    "    hum = str(data[48:-2])        \n",
    "    \n",
    "    print(local, temp, hum)\n",
    "    \n",
    "    str1 = \"INSERT INTO HOME (LOCAL,TEMP,HUM) \\\n",
    "      VALUES (\"\n",
    "    str2 = local \n",
    "    str3 = \", \"\n",
    "    str4 = temp\n",
    "    str5 = \", \"\n",
    "    str6 = hum\n",
    "    str7 = \" )\"\n",
    "    insert = str1 + str2 + str3 + str4 + str5 + str6 + str7\n",
    "    conn.execute(insert)\n",
    "    conn.commit()\n",
    "\n",
    "subscribe.callback(print_msg, \"EspTempHumSensor\", hostname=\"iot.eclipse.org\")"
   ]
  },
  {
   "cell_type": "markdown",
   "metadata": {},
   "source": [
    "# SELECT OPERATION"
   ]
  },
  {
   "cell_type": "code",
   "execution_count": 12,
   "metadata": {
    "scrolled": false
   },
   "outputs": [
    {
     "name": "stdout",
     "output_type": "stream",
     "text": [
      "Opened database successfully\n",
      "\n",
      "Timestamp  |Local Time | Temperature\n",
      "======================================\n",
      "(20171201215000, 25, 41)\n",
      "(20171201221130, 23, 31)\n",
      "(20171201221135, 24, 43)\n",
      "(20171201221138, 23, 31)\n",
      "(20171201221141, 24, 43)\n",
      "(20171201221145, 23, 31)\n",
      "(20171201221149, 23, 42)\n",
      "(20171201221152, 23, 31)\n",
      "(20171201221157, 23, 31)\n",
      "(20171201221200, 23, 31)\n",
      "(20171201221203, 23, 43)\n",
      "(20171201221207, 23, 31)\n",
      "(20171201221211, 23, 43)\n",
      "(20171201221214, 23, 31)\n",
      "(20171201221218, 24, 42)\n",
      "(20171201221223, 23, 31)\n",
      "(20171201221227, 23, 42)\n",
      "(20171201221230, 23, 31)\n",
      "(20171201221234, 23, 31)\n",
      "(20171201221237, 23, 31)\n",
      "(20171201221242, 23, 43)\n",
      "(20171201221245, 23, 31)\n",
      "(20171201221249, 23, 37)\n",
      "(20171201221253, 23, 31)\n",
      "(20171201221257, 23, 43)\n",
      "(20171201221301, 23, 31)\n",
      "(20171201221305, 23, 43)\n",
      "(20171201221308, 23, 31)\n",
      "(20171201221312, 23, 42)\n",
      "(20171201221316, 23, 31)\n",
      "(20171201221319, 23, 31)\n",
      "(20171201221323, 23, 42)\n",
      "(20171201221327, 23, 31)\n",
      "(20171201221331, 23, 42)\n",
      "(20171201221336, 23, 31)\n",
      "(20171201221340, 23, 43)\n",
      "(20171201221343, 23, 31)\n",
      "(20171201221348, 23, 43)\n",
      "(20171201221351, 23, 31)\n",
      "(20171201221356, 23, 43)\n",
      "(20171201221401, 23, 31)\n",
      "(20171201221142, 24, 43)\n"
     ]
    }
   ],
   "source": [
    "#!/usr/bin/python\n",
    "\n",
    "import sqlite3\n",
    "\n",
    "conn = sqlite3.connect('sqliteIotEspDht')\n",
    "print \"Opened database successfully\"\n",
    "print \"\"\n",
    "print(\"Timestamp  |Local Time | Temperature\")\n",
    "print(\"======================================\")\n",
    "cursor = conn.execute(\"SELECT * from HOME WHERE TEMP\")\n",
    "for row in cursor:\n",
    "    print(row[0],row[1],row[2])\n",
    "    \n",
    "conn.close()"
   ]
  },
  {
   "cell_type": "markdown",
   "metadata": {},
   "source": [
    "# Delete A TABLE"
   ]
  },
  {
   "cell_type": "code",
   "execution_count": 1,
   "metadata": {
    "scrolled": false
   },
   "outputs": [
    {
     "name": "stdout",
     "output_type": "stream",
     "text": [
      "Deleted the table successfully\n"
     ]
    }
   ],
   "source": [
    "import sqlite3\n",
    "conn = sqlite3.connect('sqliteIoTempSensor')\n",
    "cur = conn.cursor()\n",
    "sql = \"DROP TABLE HOME;\"\n",
    "cur.execute(sql)\n",
    "print \"Deleted the table successfully\"\n",
    "conn.commit()\n",
    "conn.close()"
   ]
  },
  {
   "cell_type": "code",
   "execution_count": null,
   "metadata": {
    "collapsed": true
   },
   "outputs": [],
   "source": [
    "# END"
   ]
  }
 ],
 "metadata": {
  "kernelspec": {
   "display_name": "Python 2",
   "language": "python",
   "name": "python2"
  },
  "language_info": {
   "codemirror_mode": {
    "name": "ipython",
    "version": 2
   },
   "file_extension": ".py",
   "mimetype": "text/x-python",
   "name": "python",
   "nbconvert_exporter": "python",
   "pygments_lexer": "ipython2",
   "version": "2.7.6"
  }
 },
 "nbformat": 4,
 "nbformat_minor": 2
}
